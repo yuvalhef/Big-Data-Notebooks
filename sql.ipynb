{
 "cells": [
  {
   "cell_type": "markdown",
   "metadata": {},
   "source": [
    "# Homework Assignment 1\n",
    "### The Art of Analyzing Big Data- The Data Scientist’s Toolbox "
   ]
  },
  {
   "cell_type": "markdown",
   "metadata": {},
   "source": [
    "For this homework you will need to write code that analyzes real-world datasets. The code needs to be written in Python using the [sqlite3](https://docs.python.org/2/library/sqlite3.html) package. \n",
    "\n",
    "**Please note:** You need to answer only the questions that match your ID first digit."
   ]
  },
  {
   "cell_type": "code",
   "execution_count": 2,
   "metadata": {},
   "outputs": [],
   "source": [
    "import sqlite3\n",
    "from os import listdir\n",
    "from os.path import isfile, join\n",
    "import csv\n",
    "import matplotlib.pyplot as plt\n",
    "import pandas as pd\n",
    "from timeit import default_timer as timer"
   ]
  },
  {
   "cell_type": "code",
   "execution_count": 3,
   "metadata": {},
   "outputs": [],
   "source": [
    "ds_path = 'datasets/'  # Path to directory containing all the datasets folders"
   ]
  },
  {
   "cell_type": "markdown",
   "metadata": {},
   "source": [
    "# Babies Names Dataset"
   ]
  },
  {
   "cell_type": "markdown",
   "metadata": {},
   "source": [
    "**Task 1 (for everyone):** Write a code that uses the  [babies names dataset](https://catalog.data.gov/dataset/baby-names-from-social-security-card-applications-data-by-state-and-district-of-#topic=developers_navigation) and creates a table named (Names) with the dataset data and the following columns: 'State', 'Gender', 'Name', 'Number' (5pt)\n",
    "**Bonus:** Load the data using a Batch INSERT SQL Query (5pt)"
   ]
  },
  {
   "cell_type": "code",
   "execution_count": 4,
   "metadata": {},
   "outputs": [],
   "source": [
    "conn = sqlite3.connect(ds_path+'yuval_database.db')\n",
    "file_names = [f for f in listdir(ds_path+'namesbystate') if isfile(join(ds_path+'namesbystate', f))]\n",
    "c = conn.cursor()"
   ]
  },
  {
   "cell_type": "code",
   "execution_count": 8,
   "metadata": {},
   "outputs": [
    {
     "data": {
      "text/plain": [
       "<sqlite3.Cursor at 0x2c1ebecd960>"
      ]
     },
     "execution_count": 8,
     "metadata": {},
     "output_type": "execute_result"
    }
   ],
   "source": [
    "c.execute(\"\"\" CREATE TABLE IF NOT EXISTS Names (\n",
    "                                    State text,\n",
    "                                    Gender text,\n",
    "                                    Year integer,\n",
    "                                    Name text,\n",
    "                                    Number integer\n",
    "                                ); \"\"\")"
   ]
  },
  {
   "cell_type": "code",
   "execution_count": 9,
   "metadata": {},
   "outputs": [],
   "source": [
    "for file in file_names:\n",
    "    if 'TXT' in file:\n",
    "        with open(ds_path+'namesbystate' + \"/\" + file,'r') as fin: \n",
    "            dr = csv.DictReader(fin, fieldnames=['State', 'Gender', 'Year','Name', 'Number'])\n",
    "            to_db = [(i['State'], i['Gender'], i['Year'], i['Name'], i['Number']) for i in dr]\n",
    "        c.executemany(\"INSERT INTO Names (State, Gender, Year, Name, Number) VALUES (?, ?, ?, ?, ?);\", to_db)\n",
    "conn.commit()"
   ]
  },
  {
   "cell_type": "markdown",
   "metadata": {},
   "source": [
    "**Task 2 (for everyone):** Write a query that returns the statistics for the name Mary (5pt). Use the [the timeit package](https://docs.python.org/3/library/timeit.html) to measure the time it takes the query to run (5pt). [Create an index](https://www.w3schools.com/sql/sql_create_index.asp)  on the _Name_ column and use the [the timeit package](https://docs.python.org/3/library/timeit.html) to measure the time it takes the query to run with the index (10pt)"
   ]
  },
  {
   "cell_type": "code",
   "execution_count": 10,
   "metadata": {},
   "outputs": [
    {
     "name": "stdout",
     "output_type": "stream",
     "text": [
      "Time without index is 5.3278568 sec\n"
     ]
    }
   ],
   "source": [
    "start = timer()\n",
    "pd.read_sql_query(\"\"\" SELECT a.Year, CAST(number_of_baby_Mary AS float) /cast(sum_babies as float) as Mary_proportion\n",
    "                      FROM(SELECT Year, SUM(Number) as number_of_baby_Mary\n",
    "                          FROM Names\n",
    "                          WHERE Name='Mary'\n",
    "                          GROUP BY Year) as a\n",
    "                          JOIN (SELECT Year, SUM(Number) as sum_babies\n",
    "                          FROM Names\n",
    "                          GROUP BY Year) as b\n",
    "                          on a.YEAR=b.YEAR; \"\"\", conn)\n",
    "end = timer()\n",
    "time_before_idx = end - start\n",
    "print('Time without index is {} sec'.format(time_before_idx))"
   ]
  },
  {
   "cell_type": "code",
   "execution_count": 11,
   "metadata": {},
   "outputs": [
    {
     "data": {
      "text/plain": [
       "<sqlite3.Cursor at 0x2c1ebecd960>"
      ]
     },
     "execution_count": 11,
     "metadata": {},
     "output_type": "execute_result"
    }
   ],
   "source": [
    "# Add index for Name\n",
    "c.execute(\"\"\" CREATE INDEX Name_index\n",
    "                ON Names (Name); \"\"\")"
   ]
  },
  {
   "cell_type": "code",
   "execution_count": 12,
   "metadata": {},
   "outputs": [
    {
     "name": "stdout",
     "output_type": "stream",
     "text": [
      "Time with index is 4.2712725 sec which is 1.2473699114256933 times faster\n"
     ]
    },
    {
     "data": {
      "text/plain": [
       "Text(0,0.5,'# Mary/ # babies')"
      ]
     },
     "execution_count": 12,
     "metadata": {},
     "output_type": "execute_result"
    },
    {
     "data": {
      "image/png": "[encoded data removed]",
      "text/plain": [
       "<Figure size 432x288 with 1 Axes>"
      ]
     },
     "metadata": {},
     "output_type": "display_data"
    }
   ],
   "source": [
    "start = timer()\n",
    "df = pd.read_sql_query(\"\"\" SELECT a.Year, CAST(number_of_baby_Mary AS float) /cast(sum_babies as float) as Mary_proportion\n",
    "                      FROM(SELECT Year, SUM(Number) as number_of_baby_Mary\n",
    "                          FROM Names\n",
    "                          WHERE Name='Mary'\n",
    "                          GROUP BY Year) as a\n",
    "                          JOIN (SELECT Year, SUM(Number) as sum_babies\n",
    "                          FROM Names\n",
    "                          GROUP BY Year) as b\n",
    "                          on a.YEAR=b.YEAR; \"\"\", conn)\n",
    "end = timer()\n",
    "time_after_idx = end - start\n",
    "print('Time with index is {} sec which is {} times faster'.format(time_after_idx, time_before_idx/time_after_idx) )\n",
    "\n",
    "# Plot of the statistics - proportion of babies with the name Mary by year:\n",
    "df.plot(x='Year')\n",
    "plt.title('Proportion of the name Mary by year')\n",
    "plt.ylabel('# Mary/ # babies')"
   ]
  },
  {
   "cell_type": "markdown",
   "metadata": {},
   "source": [
    "### <span style=\"color:red\"> Please answer only **one** of the following questions according to your ID number (use the formula **<YOUR_ID> mod 4 +1**) </span>"
   ]
  },
  {
   "cell_type": "code",
   "execution_count": 13,
   "metadata": {},
   "outputs": [
    {
     "name": "stdout",
     "output_type": "stream",
     "text": [
      "You need to answer question number 4\n"
     ]
    }
   ],
   "source": [
    "# which question to answer - put your ID number and run the code \n",
    "your_id  = \"302957139\"\n",
    "q = int(your_id) % 4 + 1\n",
    "print(\"You need to answer question number %s\" % q)"
   ]
  },
  {
   "cell_type": "markdown",
   "metadata": {},
   "source": [
    "***Question 1:*** Write a function that returns how many babies were born in a given state in a given year.\n",
    "Use it to calculate the number of babies born in LA in 1950 (15pt)"
   ]
  },
  {
   "cell_type": "code",
   "execution_count": null,
   "metadata": {},
   "outputs": [],
   "source": []
  },
  {
   "cell_type": "markdown",
   "metadata": {},
   "source": [
    "***Question 2:*** Write a function that returns how many male babies were born between a given range of years.\n",
    "Use it to calculate how many babies were born between 1970 and 1975  (15pt)"
   ]
  },
  {
   "cell_type": "code",
   "execution_count": null,
   "metadata": {},
   "outputs": [],
   "source": []
  },
  {
   "cell_type": "markdown",
   "metadata": {},
   "source": [
    "**Question 3:** Write a function that returns the most common female name in a given state. Use it to calculate the most common female name in Wasington in 1987 (15pt)"
   ]
  },
  {
   "cell_type": "code",
   "execution_count": null,
   "metadata": {},
   "outputs": [],
   "source": []
  },
  {
   "cell_type": "markdown",
   "metadata": {},
   "source": [
    "**Question 4:** Write a function that returns how many more male babies named _William_ where born in a given state in a given year. Use it to find the state in which the highest number of babies _William_ where born in 1999 (15pt)"
   ]
  },
  {
   "cell_type": "code",
   "execution_count": 14,
   "metadata": {},
   "outputs": [
    {
     "data": {
      "text/html": [
       "<div>\n",
       "<style scoped>\n",
       "    .dataframe tbody tr th:only-of-type {\n",
       "        vertical-align: middle;\n",
       "    }\n",
       "\n",
       "    .dataframe tbody tr th {\n",
       "        vertical-align: top;\n",
       "    }\n",
       "\n",
       "    .dataframe thead th {\n",
       "        text-align: right;\n",
       "    }\n",
       "</style>\n",
       "<table border=\"1\" class=\"dataframe\">\n",
       "  <thead>\n",
       "    <tr style=\"text-align: right;\">\n",
       "      <th></th>\n",
       "      <th>State</th>\n",
       "      <th>num_williams_1999</th>\n",
       "    </tr>\n",
       "  </thead>\n",
       "  <tbody>\n",
       "    <tr>\n",
       "      <th>0</th>\n",
       "      <td>CA</td>\n",
       "      <td>1696</td>\n",
       "    </tr>\n",
       "  </tbody>\n",
       "</table>\n",
       "</div>"
      ],
      "text/plain": [
       "  State  num_williams_1999\n",
       "0    CA               1696"
      ]
     },
     "execution_count": 14,
     "metadata": {},
     "output_type": "execute_result"
    }
   ],
   "source": [
    "def William_year_state(state, year):\n",
    "    return int(pd.read_sql_query(\"\"\" SELECT sum(Number) as num_Williams\n",
    "                                      FROM Names\n",
    "                                      WHERE State='\"\"\"+state+\"\"\"' AND Year='\"\"\"+year+\"\"\"' AND Name='William'\n",
    "                                      ; \"\"\" , conn)['num_Williams'][0])\n",
    "\n",
    "\n",
    "# Create the user-defined function\n",
    "conn.create_function('William_by_state_year', 2, William_year_state)\n",
    "\n",
    "# Use the function to find the state in which the highest number of babies William where born in 1999\n",
    "pd.read_sql_query(\"\"\" SELECT State, MAX(wili) as num_williams_1999 FROM\n",
    "                        (SELECT State, William_by_state_year(State, '1999') as wili\n",
    "                        FROM (SELECT distinct State\n",
    "                              FROM Names));\"\"\", conn)"
   ]
  },
  {
   "cell_type": "markdown",
   "metadata": {},
   "source": [
    "**Question (for everyone):** For the state of NY write code that calculates the second most popular female/male names in each decade in each state (10pt). Visualize it somehow using Matplotlib (5pt)"
   ]
  },
  {
   "cell_type": "code",
   "execution_count": 15,
   "metadata": {},
   "outputs": [
    {
     "data": {
      "image/png": "[encoded data removed]",
      "text/plain": [
       "<Figure size 1080x360 with 1 Axes>"
      ]
     },
     "metadata": {},
     "output_type": "display_data"
    }
   ],
   "source": [
    "# Since the question is a bit unclear, I assumed that I only need to calculate for NY and not for each state!\n",
    "\n",
    "df = pd.read_sql_query('''SELECT Decade, Gender, Name, total from (SELECT a.*\n",
    "                          FROM (SELECT (cast((Year / 10) as INT) * 10) as Decade, Gender, Name, SUM(Number) as total\n",
    "                                FROM Names\n",
    "                                WHERE State='NY'\n",
    "                                GROUP BY 1,2,3\n",
    "                                ORDER BY 1,2,4 ASC) as a\n",
    "                                LEFT JOIN (SELECT Decade, Gender, Name, total\n",
    "                                           FROM (SELECT (cast((Year / 10) as INT) * 10) as Decade, Gender, Name, SUM(Number) as total\n",
    "                                                 FROM Names\n",
    "                                                 WHERE State='NY'\n",
    "                                                 GROUP BY 1,2,3\n",
    "                                                 ORDER BY 1,2,4 ASC) \n",
    "                                                 GROUP BY Decade, Gender) as b on a.Decade = b.Decade AND \n",
    "                                                            a.Gender = b.Gender AND a.Name = b.Name AND a.total = b.total\n",
    "                                                            WHERE b.Name IS NULL)\n",
    "                                                            GROUP BY Decade, Gender;''', conn)\n",
    "\n",
    "labels = df['Name']\n",
    "df.pivot(index='Decade', columns='Gender', values=['total']).plot.bar(width=0.84, figsize=(15,5))\n",
    "plt.title('Second most popular name by decade in the state of NY')\n",
    "plt.ylabel('total num of babies with the name')\n",
    "ax = plt.gca()\n",
    "rects = ax.patches\n",
    "\n",
    "\n",
    "# for rect, label:\n",
    "k = 1\n",
    "j = 0\n",
    "for i in range(labels.shape[0]):\n",
    "    if i < labels.shape[0]/2:\n",
    "        label = labels[j]\n",
    "        j+=2\n",
    "    else:\n",
    "        label = labels[k]\n",
    "        k+=2\n",
    "    rect = rects[i]   \n",
    "    height = rect.get_height()\n",
    "    ax.text(rect.get_x()+ rect.get_width() / 2, height + 5, label,\n",
    "            ha='center', va='bottom')\n",
    "    i+=1"
   ]
  },
  {
   "cell_type": "markdown",
   "metadata": {},
   "source": [
    "# Flavors of Cacao Dataset"
   ]
  },
  {
   "cell_type": "markdown",
   "metadata": {},
   "source": [
    "Using the [Flavors of Cacao](https://www.kaggle.com/rombikuboktaeder/choco-flavors) dataset, answer the following questions:"
   ]
  },
  {
   "cell_type": "markdown",
   "metadata": {},
   "source": [
    "**Question 1:** Write a function that returns the number of bars manufactured where the bars' BroadBean Origin is a given country. Use the function to calculate the number of bars where BroadBean Origin is 'Fiji' (15 pt)"
   ]
  },
  {
   "cell_type": "code",
   "execution_count": null,
   "metadata": {},
   "outputs": [],
   "source": []
  },
  {
   "cell_type": "markdown",
   "metadata": {},
   "source": [
    "**Question 2:** Write a function that returns the maximal and average cocoa percentage in a bar manufactured by a company in a specific country. Use the function to calculate the maximal and average cocoa percentage in bars manufactured by a Swiss company (15pt)."
   ]
  },
  {
   "cell_type": "code",
   "execution_count": null,
   "metadata": {},
   "outputs": [],
   "source": []
  },
  {
   "cell_type": "markdown",
   "metadata": {},
   "source": [
    "**Question 3:** Calculate the second most common bean type(s) and the most rare bean type(s) (15pt)"
   ]
  },
  {
   "cell_type": "code",
   "execution_count": null,
   "metadata": {},
   "outputs": [],
   "source": []
  },
  {
   "cell_type": "markdown",
   "metadata": {},
   "source": [
    "**Question 4:** Calculate the number of reviews and the average rating in each year. Calculate the number of reviews and the average rating of each company in each year (15pt)"
   ]
  },
  {
   "cell_type": "code",
   "execution_count": 16,
   "metadata": {},
   "outputs": [
    {
     "data": {
      "text/plain": [
       "<sqlite3.Cursor at 0x2c1ebecd960>"
      ]
     },
     "execution_count": 16,
     "metadata": {},
     "output_type": "execute_result"
    }
   ],
   "source": [
    "c.execute(\"\"\" CREATE TABLE IF NOT EXISTS Coco (\n",
    "                                    Company text,\n",
    "                                    Review_Date integer,\n",
    "                                    Rating float\n",
    "                                ); \"\"\")"
   ]
  },
  {
   "cell_type": "code",
   "execution_count": 17,
   "metadata": {},
   "outputs": [],
   "source": [
    "path = 'choco-flavors/flavors_of_cacao.csv'\n",
    "with open(ds_path+path,'r') as fin: # `with` statement available in 2.5+\n",
    "        # csv.DictReader uses first line in file for column headings by default\n",
    "        dr = csv.reader(fin) # comma is default delimiter\n",
    "        next(dr)\n",
    "        to_db = [(i[0], i[3], i[6]) for i in dr]\n",
    "c.executemany(\"INSERT INTO Coco (Company, Review_Date, Rating) VALUES (?, ?, ?);\", to_db)\n",
    "conn.commit()"
   ]
  },
  {
   "cell_type": "code",
   "execution_count": 18,
   "metadata": {},
   "outputs": [
    {
     "data": {
      "text/html": [
       "<div>\n",
       "<style scoped>\n",
       "    .dataframe tbody tr th:only-of-type {\n",
       "        vertical-align: middle;\n",
       "    }\n",
       "\n",
       "    .dataframe tbody tr th {\n",
       "        vertical-align: top;\n",
       "    }\n",
       "\n",
       "    .dataframe thead th {\n",
       "        text-align: right;\n",
       "    }\n",
       "</style>\n",
       "<table border=\"1\" class=\"dataframe\">\n",
       "  <thead>\n",
       "    <tr style=\"text-align: right;\">\n",
       "      <th></th>\n",
       "      <th>Review_Date</th>\n",
       "      <th>num_reviews</th>\n",
       "      <th>average_rating</th>\n",
       "    </tr>\n",
       "  </thead>\n",
       "  <tbody>\n",
       "    <tr>\n",
       "      <th>0</th>\n",
       "      <td>2006</td>\n",
       "      <td>72</td>\n",
       "      <td>3.125000</td>\n",
       "    </tr>\n",
       "    <tr>\n",
       "      <th>1</th>\n",
       "      <td>2007</td>\n",
       "      <td>77</td>\n",
       "      <td>3.162338</td>\n",
       "    </tr>\n",
       "    <tr>\n",
       "      <th>2</th>\n",
       "      <td>2008</td>\n",
       "      <td>93</td>\n",
       "      <td>2.994624</td>\n",
       "    </tr>\n",
       "    <tr>\n",
       "      <th>3</th>\n",
       "      <td>2009</td>\n",
       "      <td>123</td>\n",
       "      <td>3.073171</td>\n",
       "    </tr>\n",
       "    <tr>\n",
       "      <th>4</th>\n",
       "      <td>2010</td>\n",
       "      <td>111</td>\n",
       "      <td>3.148649</td>\n",
       "    </tr>\n",
       "    <tr>\n",
       "      <th>5</th>\n",
       "      <td>2011</td>\n",
       "      <td>165</td>\n",
       "      <td>3.256061</td>\n",
       "    </tr>\n",
       "    <tr>\n",
       "      <th>6</th>\n",
       "      <td>2012</td>\n",
       "      <td>195</td>\n",
       "      <td>3.178205</td>\n",
       "    </tr>\n",
       "    <tr>\n",
       "      <th>7</th>\n",
       "      <td>2013</td>\n",
       "      <td>184</td>\n",
       "      <td>3.197011</td>\n",
       "    </tr>\n",
       "    <tr>\n",
       "      <th>8</th>\n",
       "      <td>2014</td>\n",
       "      <td>247</td>\n",
       "      <td>3.189271</td>\n",
       "    </tr>\n",
       "    <tr>\n",
       "      <th>9</th>\n",
       "      <td>2015</td>\n",
       "      <td>285</td>\n",
       "      <td>3.246491</td>\n",
       "    </tr>\n",
       "    <tr>\n",
       "      <th>10</th>\n",
       "      <td>2016</td>\n",
       "      <td>219</td>\n",
       "      <td>3.226027</td>\n",
       "    </tr>\n",
       "    <tr>\n",
       "      <th>11</th>\n",
       "      <td>2017</td>\n",
       "      <td>24</td>\n",
       "      <td>3.312500</td>\n",
       "    </tr>\n",
       "  </tbody>\n",
       "</table>\n",
       "</div>"
      ],
      "text/plain": [
       "    Review_Date  num_reviews  average_rating\n",
       "0          2006           72        3.125000\n",
       "1          2007           77        3.162338\n",
       "2          2008           93        2.994624\n",
       "3          2009          123        3.073171\n",
       "4          2010          111        3.148649\n",
       "5          2011          165        3.256061\n",
       "6          2012          195        3.178205\n",
       "7          2013          184        3.197011\n",
       "8          2014          247        3.189271\n",
       "9          2015          285        3.246491\n",
       "10         2016          219        3.226027\n",
       "11         2017           24        3.312500"
      ]
     },
     "execution_count": 18,
     "metadata": {},
     "output_type": "execute_result"
    }
   ],
   "source": [
    "pd.read_sql_query(\"\"\" SELECT Review_Date, COUNT(Review_Date) as num_reviews, AVG(Rating) as average_rating\n",
    "                      FROM Coco\n",
    "                      GROUP BY Review_Date; \"\"\", conn)"
   ]
  },
  {
   "cell_type": "code",
   "execution_count": 19,
   "metadata": {},
   "outputs": [
    {
     "data": {
      "text/html": [
       "<div>\n",
       "<style scoped>\n",
       "    .dataframe tbody tr th:only-of-type {\n",
       "        vertical-align: middle;\n",
       "    }\n",
       "\n",
       "    .dataframe tbody tr th {\n",
       "        vertical-align: top;\n",
       "    }\n",
       "\n",
       "    .dataframe thead th {\n",
       "        text-align: right;\n",
       "    }\n",
       "</style>\n",
       "<table border=\"1\" class=\"dataframe\">\n",
       "  <thead>\n",
       "    <tr style=\"text-align: right;\">\n",
       "      <th></th>\n",
       "      <th>Review_Date</th>\n",
       "      <th>Company</th>\n",
       "      <th>num_reviews</th>\n",
       "      <th>average_rating</th>\n",
       "    </tr>\n",
       "  </thead>\n",
       "  <tbody>\n",
       "    <tr>\n",
       "      <th>0</th>\n",
       "      <td>2006</td>\n",
       "      <td>Cote d' Or (Kraft)</td>\n",
       "      <td>1</td>\n",
       "      <td>1.000000</td>\n",
       "    </tr>\n",
       "    <tr>\n",
       "      <th>1</th>\n",
       "      <td>2006</td>\n",
       "      <td>Dolfin (Belcolade)</td>\n",
       "      <td>1</td>\n",
       "      <td>1.500000</td>\n",
       "    </tr>\n",
       "    <tr>\n",
       "      <th>2</th>\n",
       "      <td>2006</td>\n",
       "      <td>Jacque Torres</td>\n",
       "      <td>1</td>\n",
       "      <td>2.000000</td>\n",
       "    </tr>\n",
       "    <tr>\n",
       "      <th>3</th>\n",
       "      <td>2006</td>\n",
       "      <td>Green &amp; Black's (ICAM)</td>\n",
       "      <td>1</td>\n",
       "      <td>2.500000</td>\n",
       "    </tr>\n",
       "    <tr>\n",
       "      <th>4</th>\n",
       "      <td>2006</td>\n",
       "      <td>Scharffen Berger</td>\n",
       "      <td>5</td>\n",
       "      <td>2.500000</td>\n",
       "    </tr>\n",
       "    <tr>\n",
       "      <th>5</th>\n",
       "      <td>2006</td>\n",
       "      <td>Neuhaus (Callebaut)</td>\n",
       "      <td>3</td>\n",
       "      <td>2.583333</td>\n",
       "    </tr>\n",
       "    <tr>\n",
       "      <th>6</th>\n",
       "      <td>2006</td>\n",
       "      <td>El Rey</td>\n",
       "      <td>1</td>\n",
       "      <td>2.750000</td>\n",
       "    </tr>\n",
       "    <tr>\n",
       "      <th>7</th>\n",
       "      <td>2006</td>\n",
       "      <td>Michel Cluizel</td>\n",
       "      <td>7</td>\n",
       "      <td>3.000000</td>\n",
       "    </tr>\n",
       "    <tr>\n",
       "      <th>8</th>\n",
       "      <td>2006</td>\n",
       "      <td>Original Hawaiin Chocolate Factory</td>\n",
       "      <td>1</td>\n",
       "      <td>3.000000</td>\n",
       "    </tr>\n",
       "    <tr>\n",
       "      <th>9</th>\n",
       "      <td>2006</td>\n",
       "      <td>Santander (Compania Nacional)</td>\n",
       "      <td>3</td>\n",
       "      <td>3.000000</td>\n",
       "    </tr>\n",
       "    <tr>\n",
       "      <th>10</th>\n",
       "      <td>2006</td>\n",
       "      <td>Felchlin</td>\n",
       "      <td>6</td>\n",
       "      <td>3.083333</td>\n",
       "    </tr>\n",
       "    <tr>\n",
       "      <th>11</th>\n",
       "      <td>2006</td>\n",
       "      <td>Guittard</td>\n",
       "      <td>6</td>\n",
       "      <td>3.166667</td>\n",
       "    </tr>\n",
       "    <tr>\n",
       "      <th>12</th>\n",
       "      <td>2006</td>\n",
       "      <td>Valrhona</td>\n",
       "      <td>5</td>\n",
       "      <td>3.200000</td>\n",
       "    </tr>\n",
       "    <tr>\n",
       "      <th>13</th>\n",
       "      <td>2006</td>\n",
       "      <td>Domori</td>\n",
       "      <td>3</td>\n",
       "      <td>3.250000</td>\n",
       "    </tr>\n",
       "    <tr>\n",
       "      <th>14</th>\n",
       "      <td>2006</td>\n",
       "      <td>Pralus</td>\n",
       "      <td>16</td>\n",
       "      <td>3.406250</td>\n",
       "    </tr>\n",
       "    <tr>\n",
       "      <th>15</th>\n",
       "      <td>2006</td>\n",
       "      <td>Bonnat</td>\n",
       "      <td>7</td>\n",
       "      <td>3.464286</td>\n",
       "    </tr>\n",
       "    <tr>\n",
       "      <th>16</th>\n",
       "      <td>2006</td>\n",
       "      <td>Pierre Marcolini</td>\n",
       "      <td>3</td>\n",
       "      <td>3.666667</td>\n",
       "    </tr>\n",
       "    <tr>\n",
       "      <th>17</th>\n",
       "      <td>2006</td>\n",
       "      <td>Amedei</td>\n",
       "      <td>2</td>\n",
       "      <td>4.500000</td>\n",
       "    </tr>\n",
       "    <tr>\n",
       "      <th>18</th>\n",
       "      <td>2007</td>\n",
       "      <td>Callebaut</td>\n",
       "      <td>1</td>\n",
       "      <td>1.000000</td>\n",
       "    </tr>\n",
       "    <tr>\n",
       "      <th>19</th>\n",
       "      <td>2007</td>\n",
       "      <td>Neuhaus (Callebaut)</td>\n",
       "      <td>1</td>\n",
       "      <td>1.000000</td>\n",
       "    </tr>\n",
       "    <tr>\n",
       "      <th>20</th>\n",
       "      <td>2007</td>\n",
       "      <td>Bonnat</td>\n",
       "      <td>1</td>\n",
       "      <td>2.500000</td>\n",
       "    </tr>\n",
       "    <tr>\n",
       "      <th>21</th>\n",
       "      <td>2007</td>\n",
       "      <td>Cacao Barry</td>\n",
       "      <td>2</td>\n",
       "      <td>2.500000</td>\n",
       "    </tr>\n",
       "    <tr>\n",
       "      <th>22</th>\n",
       "      <td>2007</td>\n",
       "      <td>Hachez</td>\n",
       "      <td>1</td>\n",
       "      <td>2.500000</td>\n",
       "    </tr>\n",
       "    <tr>\n",
       "      <th>23</th>\n",
       "      <td>2007</td>\n",
       "      <td>Vintage Plantations (Tulicorp)</td>\n",
       "      <td>4</td>\n",
       "      <td>2.500000</td>\n",
       "    </tr>\n",
       "    <tr>\n",
       "      <th>24</th>\n",
       "      <td>2007</td>\n",
       "      <td>Chocovic</td>\n",
       "      <td>3</td>\n",
       "      <td>2.666667</td>\n",
       "    </tr>\n",
       "    <tr>\n",
       "      <th>25</th>\n",
       "      <td>2007</td>\n",
       "      <td>Askinosie</td>\n",
       "      <td>2</td>\n",
       "      <td>2.750000</td>\n",
       "    </tr>\n",
       "    <tr>\n",
       "      <th>26</th>\n",
       "      <td>2007</td>\n",
       "      <td>Theo</td>\n",
       "      <td>5</td>\n",
       "      <td>2.800000</td>\n",
       "    </tr>\n",
       "    <tr>\n",
       "      <th>27</th>\n",
       "      <td>2007</td>\n",
       "      <td>Dean and Deluca (Belcolade)</td>\n",
       "      <td>6</td>\n",
       "      <td>2.916667</td>\n",
       "    </tr>\n",
       "    <tr>\n",
       "      <th>28</th>\n",
       "      <td>2007</td>\n",
       "      <td>Valrhona</td>\n",
       "      <td>7</td>\n",
       "      <td>2.964286</td>\n",
       "    </tr>\n",
       "    <tr>\n",
       "      <th>29</th>\n",
       "      <td>2007</td>\n",
       "      <td>Coppeneur</td>\n",
       "      <td>1</td>\n",
       "      <td>3.000000</td>\n",
       "    </tr>\n",
       "    <tr>\n",
       "      <th>...</th>\n",
       "      <td>...</td>\n",
       "      <td>...</td>\n",
       "      <td>...</td>\n",
       "      <td>...</td>\n",
       "    </tr>\n",
       "    <tr>\n",
       "      <th>698</th>\n",
       "      <td>2016</td>\n",
       "      <td>Soma</td>\n",
       "      <td>7</td>\n",
       "      <td>3.607143</td>\n",
       "    </tr>\n",
       "    <tr>\n",
       "      <th>699</th>\n",
       "      <td>2016</td>\n",
       "      <td>Brasstown aka It's Chocolate</td>\n",
       "      <td>2</td>\n",
       "      <td>3.625000</td>\n",
       "    </tr>\n",
       "    <tr>\n",
       "      <th>700</th>\n",
       "      <td>2016</td>\n",
       "      <td>Manufaktura Czekolady</td>\n",
       "      <td>2</td>\n",
       "      <td>3.625000</td>\n",
       "    </tr>\n",
       "    <tr>\n",
       "      <th>701</th>\n",
       "      <td>2016</td>\n",
       "      <td>Spencer</td>\n",
       "      <td>3</td>\n",
       "      <td>3.666667</td>\n",
       "    </tr>\n",
       "    <tr>\n",
       "      <th>702</th>\n",
       "      <td>2016</td>\n",
       "      <td>A. Morin</td>\n",
       "      <td>1</td>\n",
       "      <td>3.750000</td>\n",
       "    </tr>\n",
       "    <tr>\n",
       "      <th>703</th>\n",
       "      <td>2016</td>\n",
       "      <td>Askinosie</td>\n",
       "      <td>1</td>\n",
       "      <td>3.750000</td>\n",
       "    </tr>\n",
       "    <tr>\n",
       "      <th>704</th>\n",
       "      <td>2016</td>\n",
       "      <td>Cacao Hunters</td>\n",
       "      <td>2</td>\n",
       "      <td>3.750000</td>\n",
       "    </tr>\n",
       "    <tr>\n",
       "      <th>705</th>\n",
       "      <td>2016</td>\n",
       "      <td>Dandelion</td>\n",
       "      <td>1</td>\n",
       "      <td>3.750000</td>\n",
       "    </tr>\n",
       "    <tr>\n",
       "      <th>706</th>\n",
       "      <td>2016</td>\n",
       "      <td>Mission</td>\n",
       "      <td>1</td>\n",
       "      <td>3.750000</td>\n",
       "    </tr>\n",
       "    <tr>\n",
       "      <th>707</th>\n",
       "      <td>2016</td>\n",
       "      <td>Omnom</td>\n",
       "      <td>1</td>\n",
       "      <td>3.750000</td>\n",
       "    </tr>\n",
       "    <tr>\n",
       "      <th>708</th>\n",
       "      <td>2016</td>\n",
       "      <td>Potomac</td>\n",
       "      <td>1</td>\n",
       "      <td>3.750000</td>\n",
       "    </tr>\n",
       "    <tr>\n",
       "      <th>709</th>\n",
       "      <td>2016</td>\n",
       "      <td>Ritual</td>\n",
       "      <td>1</td>\n",
       "      <td>3.750000</td>\n",
       "    </tr>\n",
       "    <tr>\n",
       "      <th>710</th>\n",
       "      <td>2016</td>\n",
       "      <td>Rogue</td>\n",
       "      <td>1</td>\n",
       "      <td>3.750000</td>\n",
       "    </tr>\n",
       "    <tr>\n",
       "      <th>711</th>\n",
       "      <td>2016</td>\n",
       "      <td>Timo A. Meyer</td>\n",
       "      <td>1</td>\n",
       "      <td>3.750000</td>\n",
       "    </tr>\n",
       "    <tr>\n",
       "      <th>712</th>\n",
       "      <td>2016</td>\n",
       "      <td>Fruition</td>\n",
       "      <td>2</td>\n",
       "      <td>3.875000</td>\n",
       "    </tr>\n",
       "    <tr>\n",
       "      <th>713</th>\n",
       "      <td>2016</td>\n",
       "      <td>Heirloom Cacao Preservation (Zokoko)</td>\n",
       "      <td>2</td>\n",
       "      <td>3.875000</td>\n",
       "    </tr>\n",
       "    <tr>\n",
       "      <th>714</th>\n",
       "      <td>2016</td>\n",
       "      <td>Castronovo</td>\n",
       "      <td>1</td>\n",
       "      <td>4.000000</td>\n",
       "    </tr>\n",
       "    <tr>\n",
       "      <th>715</th>\n",
       "      <td>2016</td>\n",
       "      <td>Pacari</td>\n",
       "      <td>1</td>\n",
       "      <td>4.000000</td>\n",
       "    </tr>\n",
       "    <tr>\n",
       "      <th>716</th>\n",
       "      <td>2016</td>\n",
       "      <td>Willie's Cacao</td>\n",
       "      <td>1</td>\n",
       "      <td>4.000000</td>\n",
       "    </tr>\n",
       "    <tr>\n",
       "      <th>717</th>\n",
       "      <td>2017</td>\n",
       "      <td>Xocolla</td>\n",
       "      <td>2</td>\n",
       "      <td>2.625000</td>\n",
       "    </tr>\n",
       "    <tr>\n",
       "      <th>718</th>\n",
       "      <td>2017</td>\n",
       "      <td>Dalloway</td>\n",
       "      <td>1</td>\n",
       "      <td>2.750000</td>\n",
       "    </tr>\n",
       "    <tr>\n",
       "      <th>719</th>\n",
       "      <td>2017</td>\n",
       "      <td>Beau Cacao</td>\n",
       "      <td>2</td>\n",
       "      <td>3.125000</td>\n",
       "    </tr>\n",
       "    <tr>\n",
       "      <th>720</th>\n",
       "      <td>2017</td>\n",
       "      <td>Spencer</td>\n",
       "      <td>3</td>\n",
       "      <td>3.333333</td>\n",
       "    </tr>\n",
       "    <tr>\n",
       "      <th>721</th>\n",
       "      <td>2017</td>\n",
       "      <td>Letterpress</td>\n",
       "      <td>2</td>\n",
       "      <td>3.375000</td>\n",
       "    </tr>\n",
       "    <tr>\n",
       "      <th>722</th>\n",
       "      <td>2017</td>\n",
       "      <td>Soul</td>\n",
       "      <td>6</td>\n",
       "      <td>3.375000</td>\n",
       "    </tr>\n",
       "    <tr>\n",
       "      <th>723</th>\n",
       "      <td>2017</td>\n",
       "      <td>Alexandre</td>\n",
       "      <td>4</td>\n",
       "      <td>3.500000</td>\n",
       "    </tr>\n",
       "    <tr>\n",
       "      <th>724</th>\n",
       "      <td>2017</td>\n",
       "      <td>French Broad</td>\n",
       "      <td>1</td>\n",
       "      <td>3.500000</td>\n",
       "    </tr>\n",
       "    <tr>\n",
       "      <th>725</th>\n",
       "      <td>2017</td>\n",
       "      <td>Madre</td>\n",
       "      <td>1</td>\n",
       "      <td>3.500000</td>\n",
       "    </tr>\n",
       "    <tr>\n",
       "      <th>726</th>\n",
       "      <td>2017</td>\n",
       "      <td>Smooth Chocolator, The</td>\n",
       "      <td>1</td>\n",
       "      <td>3.500000</td>\n",
       "    </tr>\n",
       "    <tr>\n",
       "      <th>727</th>\n",
       "      <td>2017</td>\n",
       "      <td>Dick Taylor</td>\n",
       "      <td>1</td>\n",
       "      <td>3.750000</td>\n",
       "    </tr>\n",
       "  </tbody>\n",
       "</table>\n",
       "<p>728 rows × 4 columns</p>\n",
       "</div>"
      ],
      "text/plain": [
       "     Review_Date                               Company  num_reviews  \\\n",
       "0           2006                    Cote d' Or (Kraft)            1   \n",
       "1           2006                    Dolfin (Belcolade)            1   \n",
       "2           2006                         Jacque Torres            1   \n",
       "3           2006                Green & Black's (ICAM)            1   \n",
       "4           2006                      Scharffen Berger            5   \n",
       "5           2006                   Neuhaus (Callebaut)            3   \n",
       "6           2006                                El Rey            1   \n",
       "7           2006                        Michel Cluizel            7   \n",
       "8           2006    Original Hawaiin Chocolate Factory            1   \n",
       "9           2006         Santander (Compania Nacional)            3   \n",
       "10          2006                              Felchlin            6   \n",
       "11          2006                              Guittard            6   \n",
       "12          2006                              Valrhona            5   \n",
       "13          2006                                Domori            3   \n",
       "14          2006                                Pralus           16   \n",
       "15          2006                                Bonnat            7   \n",
       "16          2006                      Pierre Marcolini            3   \n",
       "17          2006                                Amedei            2   \n",
       "18          2007                             Callebaut            1   \n",
       "19          2007                   Neuhaus (Callebaut)            1   \n",
       "20          2007                                Bonnat            1   \n",
       "21          2007                           Cacao Barry            2   \n",
       "22          2007                                Hachez            1   \n",
       "23          2007        Vintage Plantations (Tulicorp)            4   \n",
       "24          2007                              Chocovic            3   \n",
       "25          2007                             Askinosie            2   \n",
       "26          2007                                  Theo            5   \n",
       "27          2007           Dean and Deluca (Belcolade)            6   \n",
       "28          2007                              Valrhona            7   \n",
       "29          2007                             Coppeneur            1   \n",
       "..           ...                                   ...          ...   \n",
       "698         2016                                  Soma            7   \n",
       "699         2016          Brasstown aka It's Chocolate            2   \n",
       "700         2016                 Manufaktura Czekolady            2   \n",
       "701         2016                               Spencer            3   \n",
       "702         2016                              A. Morin            1   \n",
       "703         2016                             Askinosie            1   \n",
       "704         2016                         Cacao Hunters            2   \n",
       "705         2016                             Dandelion            1   \n",
       "706         2016                               Mission            1   \n",
       "707         2016                                 Omnom            1   \n",
       "708         2016                               Potomac            1   \n",
       "709         2016                                Ritual            1   \n",
       "710         2016                                 Rogue            1   \n",
       "711         2016                         Timo A. Meyer            1   \n",
       "712         2016                              Fruition            2   \n",
       "713         2016  Heirloom Cacao Preservation (Zokoko)            2   \n",
       "714         2016                            Castronovo            1   \n",
       "715         2016                                Pacari            1   \n",
       "716         2016                        Willie's Cacao            1   \n",
       "717         2017                               Xocolla            2   \n",
       "718         2017                              Dalloway            1   \n",
       "719         2017                            Beau Cacao            2   \n",
       "720         2017                               Spencer            3   \n",
       "721         2017                           Letterpress            2   \n",
       "722         2017                                  Soul            6   \n",
       "723         2017                             Alexandre            4   \n",
       "724         2017                          French Broad            1   \n",
       "725         2017                                 Madre            1   \n",
       "726         2017                Smooth Chocolator, The            1   \n",
       "727         2017                           Dick Taylor            1   \n",
       "\n",
       "     average_rating  \n",
       "0          1.000000  \n",
       "1          1.500000  \n",
       "2          2.000000  \n",
       "3          2.500000  \n",
       "4          2.500000  \n",
       "5          2.583333  \n",
       "6          2.750000  \n",
       "7          3.000000  \n",
       "8          3.000000  \n",
       "9          3.000000  \n",
       "10         3.083333  \n",
       "11         3.166667  \n",
       "12         3.200000  \n",
       "13         3.250000  \n",
       "14         3.406250  \n",
       "15         3.464286  \n",
       "16         3.666667  \n",
       "17         4.500000  \n",
       "18         1.000000  \n",
       "19         1.000000  \n",
       "20         2.500000  \n",
       "21         2.500000  \n",
       "22         2.500000  \n",
       "23         2.500000  \n",
       "24         2.666667  \n",
       "25         2.750000  \n",
       "26         2.800000  \n",
       "27         2.916667  \n",
       "28         2.964286  \n",
       "29         3.000000  \n",
       "..              ...  \n",
       "698        3.607143  \n",
       "699        3.625000  \n",
       "700        3.625000  \n",
       "701        3.666667  \n",
       "702        3.750000  \n",
       "703        3.750000  \n",
       "704        3.750000  \n",
       "705        3.750000  \n",
       "706        3.750000  \n",
       "707        3.750000  \n",
       "708        3.750000  \n",
       "709        3.750000  \n",
       "710        3.750000  \n",
       "711        3.750000  \n",
       "712        3.875000  \n",
       "713        3.875000  \n",
       "714        4.000000  \n",
       "715        4.000000  \n",
       "716        4.000000  \n",
       "717        2.625000  \n",
       "718        2.750000  \n",
       "719        3.125000  \n",
       "720        3.333333  \n",
       "721        3.375000  \n",
       "722        3.375000  \n",
       "723        3.500000  \n",
       "724        3.500000  \n",
       "725        3.500000  \n",
       "726        3.500000  \n",
       "727        3.750000  \n",
       "\n",
       "[728 rows x 4 columns]"
      ]
     },
     "execution_count": 19,
     "metadata": {},
     "output_type": "execute_result"
    }
   ],
   "source": [
    "pd.read_sql_query(\"\"\" SELECT Review_Date, Company, COUNT(Review_Date) as num_reviews, AVG(Rating) as average_rating\n",
    "                      FROM Coco\n",
    "                      GROUP BY Review_Date, Company\n",
    "                      ORDER BY Review_Date, average_rating ASC; \"\"\", conn)"
   ]
  },
  {
   "cell_type": "markdown",
   "metadata": {},
   "source": [
    "# Kickstarter Projects Dataset"
   ]
  },
  {
   "cell_type": "markdown",
   "metadata": {},
   "source": [
    "Using the [Kickstarter Projects Dataset](https://www.kaggle.com/kemical/kickstarter-projects#ks-projects-201801.csv), answer the following questions:"
   ]
  },
  {
   "cell_type": "markdown",
   "metadata": {},
   "source": [
    "### <span style=\"color:red\"> Please answer only **one** of the following questions according to your ID number (use the formula **<YOUR_ID> mod 3 +1**) </span>"
   ]
  },
  {
   "cell_type": "code",
   "execution_count": 20,
   "metadata": {},
   "outputs": [
    {
     "name": "stdout",
     "output_type": "stream",
     "text": [
      "You need to answer question number 1\n"
     ]
    }
   ],
   "source": [
    "# which question to answer - put your ID number and run the code \n",
    "your_id  = \"302957139\"\n",
    "q = int(your_id) % 3 + 1\n",
    "print(\"You need to answer question number %s\" % q)"
   ]
  },
  {
   "cell_type": "markdown",
   "metadata": {},
   "source": [
    "**Question 1:** On average which project category received the highest number of backers? (15 pt)"
   ]
  },
  {
   "cell_type": "code",
   "execution_count": 5,
   "metadata": {},
   "outputs": [
    {
     "data": {
      "text/plain": [
       "<sqlite3.Cursor at 0x2b7a7c7dd50>"
      ]
     },
     "execution_count": 5,
     "metadata": {},
     "output_type": "execute_result"
    }
   ],
   "source": [
    "# I assumed one table contains the records of the other\n",
    "\n",
    "c.execute(\"\"\" CREATE TABLE IF NOT EXISTS KickStart (\n",
    "                                    Category text,\n",
    "                                    Backers integer\n",
    "                                ); \"\"\")"
   ]
  },
  {
   "cell_type": "code",
   "execution_count": 6,
   "metadata": {},
   "outputs": [],
   "source": [
    "path = 'kickstarter-projects/ks-projects-201801.csv'  \n",
    "\n",
    "# I assumed this table also contains the records of the other table so I used only this one !!\n",
    "\n",
    "with open(ds_path+path, encoding=\"utf8\") as fin: \n",
    "        dr = csv.DictReader(fin) \n",
    "        to_db = [(i['category'], i['backers']) for i in dr]\n",
    "c.executemany(\"INSERT INTO KickStart (Category, Backers) VALUES (?, ?);\", to_db)\n",
    "conn.commit()"
   ]
  },
  {
   "cell_type": "code",
   "execution_count": 13,
   "metadata": {},
   "outputs": [
    {
     "data": {
      "text/html": [
       "<div>\n",
       "<style scoped>\n",
       "    .dataframe tbody tr th:only-of-type {\n",
       "        vertical-align: middle;\n",
       "    }\n",
       "\n",
       "    .dataframe tbody tr th {\n",
       "        vertical-align: top;\n",
       "    }\n",
       "\n",
       "    .dataframe thead th {\n",
       "        text-align: right;\n",
       "    }\n",
       "</style>\n",
       "<table border=\"1\" class=\"dataframe\">\n",
       "  <thead>\n",
       "    <tr style=\"text-align: right;\">\n",
       "      <th></th>\n",
       "      <th>Category</th>\n",
       "      <th>average_backers</th>\n",
       "    </tr>\n",
       "  </thead>\n",
       "  <tbody>\n",
       "    <tr>\n",
       "      <th>0</th>\n",
       "      <td>Chiptune</td>\n",
       "      <td>443.942857</td>\n",
       "    </tr>\n",
       "  </tbody>\n",
       "</table>\n",
       "</div>"
      ],
      "text/plain": [
       "   Category  average_backers\n",
       "0  Chiptune       443.942857"
      ]
     },
     "execution_count": 13,
     "metadata": {},
     "output_type": "execute_result"
    }
   ],
   "source": [
    "# I assumed I need to use column 'category' and not 'main_categoty'\n",
    "\n",
    "pd.read_sql_query(\"\"\" SELECT Category, MAX(average_backers) as average_backers\n",
    "                      FROM (SELECT Category, AVG(Backers) as average_backers\n",
    "                      FROM KickStart\n",
    "                      GROUP BY Category); \"\"\", conn)"
   ]
  },
  {
   "cell_type": "markdown",
   "metadata": {},
   "source": [
    "**Question 2:** On average which project category received the highest pledged USD? (15 pt)"
   ]
  },
  {
   "cell_type": "code",
   "execution_count": null,
   "metadata": {},
   "outputs": [],
   "source": []
  },
  {
   "cell_type": "markdown",
   "metadata": {},
   "source": [
    "**Question 3:** In which month occurred the highest number of projects? (15 pt)"
   ]
  },
  {
   "cell_type": "code",
   "execution_count": null,
   "metadata": {},
   "outputs": [],
   "source": []
  },
  {
   "cell_type": "markdown",
   "metadata": {},
   "source": [
    "## Oscars Datasets"
   ]
  },
  {
   "cell_type": "markdown",
   "metadata": {},
   "source": [
    "Using the [Oscars Dataset](https://www.kaggle.com/theacademy/academy-awards), answer the following questions:"
   ]
  },
  {
   "cell_type": "markdown",
   "metadata": {},
   "source": [
    "**Question 1:** Who is the female actress with the most Oscar nominees? (10pt)"
   ]
  },
  {
   "cell_type": "code",
   "execution_count": 24,
   "metadata": {},
   "outputs": [
    {
     "data": {
      "text/plain": [
       "<sqlite3.Cursor at 0x2c1ebecd960>"
      ]
     },
     "execution_count": 24,
     "metadata": {},
     "output_type": "execute_result"
    }
   ],
   "source": [
    "# I was not sure if I need to answer question 1 or 4, answered both\n",
    "\n",
    "c.execute(\"\"\" CREATE TABLE IF NOT EXISTS Oscar (\n",
    "                                    Award text,\n",
    "                                    Name text\n",
    "                                    ); \"\"\")"
   ]
  },
  {
   "cell_type": "code",
   "execution_count": 25,
   "metadata": {},
   "outputs": [],
   "source": [
    "path = 'academy-awards/database.csv'\n",
    "with open(ds_path+path, encoding='utf8') as fin: # `with` statement available in 2.5+\n",
    "        # csv.DictReader uses first line in file for column headings by default\n",
    "        dr = csv.DictReader(fin) # comma is default delimiter\n",
    "        to_db = [(i['Award'], i['Name']) for i in dr]\n",
    "c.executemany(\"INSERT INTO Oscar (Award, Name) VALUES (?, ?);\", to_db)\n",
    "conn.commit()"
   ]
  },
  {
   "cell_type": "code",
   "execution_count": 26,
   "metadata": {},
   "outputs": [
    {
     "data": {
      "text/html": [
       "<div>\n",
       "<style scoped>\n",
       "    .dataframe tbody tr th:only-of-type {\n",
       "        vertical-align: middle;\n",
       "    }\n",
       "\n",
       "    .dataframe tbody tr th {\n",
       "        vertical-align: top;\n",
       "    }\n",
       "\n",
       "    .dataframe thead th {\n",
       "        text-align: right;\n",
       "    }\n",
       "</style>\n",
       "<table border=\"1\" class=\"dataframe\">\n",
       "  <thead>\n",
       "    <tr style=\"text-align: right;\">\n",
       "      <th></th>\n",
       "      <th>Name</th>\n",
       "      <th>num_nominees</th>\n",
       "    </tr>\n",
       "  </thead>\n",
       "  <tbody>\n",
       "    <tr>\n",
       "      <th>0</th>\n",
       "      <td>Meryl Streep</td>\n",
       "      <td>19</td>\n",
       "    </tr>\n",
       "  </tbody>\n",
       "</table>\n",
       "</div>"
      ],
      "text/plain": [
       "           Name  num_nominees\n",
       "0  Meryl Streep            19"
      ]
     },
     "execution_count": 26,
     "metadata": {},
     "output_type": "execute_result"
    }
   ],
   "source": [
    "pd.read_sql_query(\"\"\" SELECT *\n",
    "                      FROM(SELECT Name, COUNT(Name) as num_nominees \n",
    "                           FROM Oscar\n",
    "                           WHERE Award LIKE 'Actress%'              \n",
    "                           GROUP BY Name\n",
    "                           ORDER BY num_nominees ASC)\n",
    "                      WHERE num_nominees = (SELECT nominees \n",
    "                                           FROM((SELECT Name, MAX(num_nominees) as nominees\n",
    "                                                 FROM(SELECT Name, COUNT(Name) as num_nominees \n",
    "                                                      FROM Oscar\n",
    "                                                      WHERE Award LIKE 'Actress%'            \n",
    "                                                      GROUP BY Name)))); \"\"\", conn)"
   ]
  },
  {
   "cell_type": "markdown",
   "metadata": {},
   "source": [
    "**Question 2:** Who is the male director with the most Oscar nominees? (10pt)"
   ]
  },
  {
   "cell_type": "markdown",
   "metadata": {},
   "source": [
    "**Question 3:** Which top-10 movies received the highest number of Oscar nominees? (10pt)"
   ]
  },
  {
   "cell_type": "code",
   "execution_count": null,
   "metadata": {},
   "outputs": [],
   "source": []
  },
  {
   "cell_type": "markdown",
   "metadata": {},
   "source": [
    "**Question 4:** Write a function that receives an actor's name and returns the actor’s number of Oscar nominees. Use the function to calculate the number of times Leonardo DiCaprio was a nominee (10pt)"
   ]
  },
  {
   "cell_type": "code",
   "execution_count": 27,
   "metadata": {},
   "outputs": [
    {
     "data": {
      "text/html": [
       "<div>\n",
       "<style scoped>\n",
       "    .dataframe tbody tr th:only-of-type {\n",
       "        vertical-align: middle;\n",
       "    }\n",
       "\n",
       "    .dataframe tbody tr th {\n",
       "        vertical-align: top;\n",
       "    }\n",
       "\n",
       "    .dataframe thead th {\n",
       "        text-align: right;\n",
       "    }\n",
       "</style>\n",
       "<table border=\"1\" class=\"dataframe\">\n",
       "  <thead>\n",
       "    <tr style=\"text-align: right;\">\n",
       "      <th></th>\n",
       "      <th>Name</th>\n",
       "      <th>num_nominees</th>\n",
       "    </tr>\n",
       "  </thead>\n",
       "  <tbody>\n",
       "    <tr>\n",
       "      <th>0</th>\n",
       "      <td>Leonardo DiCaprio</td>\n",
       "      <td>5</td>\n",
       "    </tr>\n",
       "  </tbody>\n",
       "</table>\n",
       "</div>"
      ],
      "text/plain": [
       "                Name  num_nominees\n",
       "0  Leonardo DiCaprio             5"
      ]
     },
     "execution_count": 27,
     "metadata": {},
     "output_type": "execute_result"
    }
   ],
   "source": [
    "def actor_nominees(name):\n",
    "    return int(pd.read_sql_query('''SELECT Name, COUNT(Name) as num_nominees \n",
    "                              FROM Oscar\n",
    "                              WHERE Award LIKE 'Actor%' and name LIKE \"%'''+name+'''%\";''', conn)['num_nominees'][0])\n",
    "\n",
    "\n",
    "conn.create_function('actor_nominees', 1, actor_nominees)\n",
    "c.execute('''CREATE TABLE IF NOT EXISTS answer (Name text, num_nominees integer)''')\n",
    "question = ('Leonardo DiCaprio', 'Leonardo DiCaprio')\n",
    "c.execute('''INSERT INTO answer(Name , num_nominees) VALUES (?, actor_nominees(?))''', question)\n",
    "pd.read_sql_query( \"\"\" SELECT * FROM answer; \"\"\", conn)"
   ]
  },
  {
   "cell_type": "markdown",
   "metadata": {},
   "source": [
    "## Select a Dataset"
   ]
  },
  {
   "cell_type": "markdown",
   "metadata": {},
   "source": [
    "**Open Question:** Select an interesting dataset and use SQL to discover something interesting (10pt)"
   ]
  },
  {
   "cell_type": "markdown",
   "metadata": {},
   "source": [
    "## My choice: \n",
    "I chose two datasets: [Gun Violence](https://www.kaggle.com/jameslko/gun-violence-data) which holds data on gun crimes between 1/1/2013 and 3/31/2018 by US state, and [US population](https://datamarket.com/data/set/4m86/us-population-by-state-and-county#!ds=4m86!7x53=7:7x52=2.3.4.5.6.7.8.9.a.b.c.d.e.f.g.h.i.j.k.l.m.n.o.p.q.r.s.t.u.v.w.x.y.z.10.11.12.13.14.1h.15.16.17.18.19.1a.1b.1c.1d.1e.1f.1g:8sf4=1&display=barstack) that details the number of residents by state in the US."
   ]
  },
  {
   "cell_type": "code",
   "execution_count": 36,
   "metadata": {},
   "outputs": [],
   "source": [
    "c.execute(\"\"\" CREATE TABLE IF NOT EXISTS Guns (\n",
    "                                    state text,\n",
    "                                    n_killed text,\n",
    "                                    n_injured text,\n",
    "                                    gun_type text); \"\"\")\n",
    "\n",
    "c.execute(\"\"\" CREATE TABLE IF NOT EXISTS Population (\n",
    "                                    state text,\n",
    "                                    n_residents integer); \"\"\")\n",
    "\n",
    "path = 'datasets/crime/us_population_by_state.csv'\n",
    "with open(path, encoding='utf8') as fin: \n",
    "        dr = csv.DictReader(fin)\n",
    "        to_db = [(i['state'], i['n_residents']) for i in dr]\n",
    "        c.executemany(\"INSERT INTO Population (state, n_residents) VALUES (?, ?);\", to_db)\n",
    "    \n",
    "path = 'datasets/crime/gun-violence-data_01-2013_03-2018.csv'\n",
    "with open(path, encoding='utf-8', errors='ignore') as fin: \n",
    "        dr = csv.DictReader(fin) \n",
    "        to_db = [(i['state'], i['n_killed'], i['n_injured'], i['gun_type']) for i in dr]\n",
    "        c.executemany(\"INSERT INTO Guns (state, n_killed, n_injured, gun_type) VALUES (?, ?, ?, ?);\", to_db)\n"
   ]
  },
  {
   "cell_type": "code",
   "execution_count": 37,
   "metadata": {},
   "outputs": [
    {
     "data": {
      "text/plain": [
       "Text(0,0.5,'Num of fatalities')"
      ]
     },
     "execution_count": 37,
     "metadata": {},
     "output_type": "execute_result"
    },
    {
     "data": {
      "image/png": "[encoded data removed]",
      "text/plain": [
       "<Figure size 1296x576 with 1 Axes>"
      ]
     },
     "metadata": {},
     "output_type": "display_data"
    }
   ],
   "source": [
    "# Here I query and plot the number of fatalities in gun crime by state\n",
    "\n",
    "pd.read_sql_query('''SELECT state, sum(n_killed) as killed \n",
    "                     FROM Guns group by state\n",
    "                     ORDER BY killed ASC;''', conn).plot.bar(x='state', figsize=(18,8))\n",
    "\n",
    "plt.title('Number of fatalities in gun crime between 1/1/2013 and 3/31/2018 by state')\n",
    "plt.ylabel('Num of fatalities')"
   ]
  },
  {
   "cell_type": "code",
   "execution_count": 38,
   "metadata": {},
   "outputs": [
    {
     "data": {
      "text/plain": [
       "Text(0,0.5,'Proportion of fatalities')"
      ]
     },
     "execution_count": 38,
     "metadata": {},
     "output_type": "execute_result"
    },
    {
     "data": {
      "image/png": "[encoded data removed]",
      "text/plain": [
       "<Figure size 1296x576 with 1 Axes>"
      ]
     },
     "metadata": {},
     "output_type": "display_data"
    }
   ],
   "source": [
    "# Here I query and plot the proportion of fatalities in gun crime by state in respect to the population size\n",
    "\n",
    "pd.read_sql_query('''SELECT a.state, CAST(killed AS float) /cast(n_residents as float) as proportion \n",
    "                     FROM (SELECT state, sum(n_killed) as killed from Guns group by state) as a\n",
    "                     JOIN (select * from Population) as b \n",
    "                     on a.state=b.state ORDER BY proportion ASC;''', conn).plot.bar(x='state', figsize=(18,8))\n",
    "\n",
    "plt.title('Proportion of fatalities in gun crime between 1/1/2013 and 3/31/2018 in respect to state population size')\n",
    "plt.ylabel('Proportion of fatalities')"
   ]
  },
  {
   "cell_type": "code",
   "execution_count": 39,
   "metadata": {},
   "outputs": [
    {
     "data": {
      "text/plain": [
       "Text(0,0.5,'Proportion of fatalities in respect to the number of casualties')"
      ]
     },
     "execution_count": 39,
     "metadata": {},
     "output_type": "execute_result"
    },
    {
     "data": {
      "image/png": "[encoded data removed]",
      "text/plain": [
       "<Figure size 1296x576 with 1 Axes>"
      ]
     },
     "metadata": {},
     "output_type": "display_data"
    }
   ],
   "source": [
    "# Here I query and plot the proportion of fatalities in gun crime by state in respect to the overall number of casualties in the gun crimes\n",
    "\n",
    "pd.read_sql_query('''SELECT state, CAST(killed AS float) /cast(injured+killed as float) as proportion\n",
    "                     FROM (SELECT state, sum(n_killed) as killed, sum(n_injured) as injured \n",
    "                        FROM Guns group by state)\n",
    "                        ORDER BY proportion ASC;''', conn).plot.bar(x='state', figsize=(18,8))\n",
    "\n",
    "plt.title('Proportion of fatalities in gun crime between 1/1/2013 and 3/31/2018 by state in respect to the number of casualties')\n",
    "plt.ylabel('Proportion of fatalities in respect to the number of casualties') "
   ]
  },
  {
   "cell_type": "markdown",
   "metadata": {},
   "source": [
    "# Conclusions\n",
    "We can see for example that while Hawaii has the smallest proportion of fatalities due to gun crime out of all states, the crimes there are more severe and result in higher proportion of fatalities out of the total number of casualties in the crime."
   ]
  },
  {
   "cell_type": "code",
   "execution_count": 40,
   "metadata": {},
   "outputs": [],
   "source": [
    "c.close()\n",
    "conn.close()"
   ]
  },
  {
   "cell_type": "code",
   "execution_count": null,
   "metadata": {},
   "outputs": [],
   "source": []
  }
 ],
 "metadata": {
  "kernelspec": {
   "display_name": "Python 3",
   "language": "python",
   "name": "python3"
  },
  "language_info": {
   "codemirror_mode": {
    "name": "ipython",
    "version": 3
   },
   "file_extension": ".py",
   "mimetype": "text/x-python",
   "name": "python",
   "nbconvert_exporter": "python",
   "pygments_lexer": "ipython3",
   "version": "3.6.5"
  }
 },
 "nbformat": 4,
 "nbformat_minor": 2
}
